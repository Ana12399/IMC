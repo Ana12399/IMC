{
  "nbformat": 4,
  "nbformat_minor": 0,
  "metadata": {
    "colab": {
      "provenance": [],
      "authorship_tag": "ABX9TyMvlFS2VWJNcM3lNZQc3JwB",
      "include_colab_link": true
    },
    "kernelspec": {
      "name": "python3",
      "display_name": "Python 3"
    },
    "language_info": {
      "name": "python"
    }
  },
  "cells": [
    {
      "cell_type": "markdown",
      "metadata": {
        "id": "view-in-github",
        "colab_type": "text"
      },
      "source": [
        "<a href=\"https://colab.research.google.com/github/Ana12399/IMC/blob/main/Pok%C3%A9dex.ipynb\" target=\"_parent\"><img src=\"https://colab.research.google.com/assets/colab-badge.svg\" alt=\"Open In Colab\"/></a>"
      ]
    },
    {
      "cell_type": "markdown",
      "source": [
        "Con el lenguaje de programación Python, usando la librería requests y equipando las habilidades que has adquirido en este Módulo construirás una Pokédex obteniendo los datos de https://pokeapi.co/\n",
        "\n",
        "Cuando el usuario introduzca el nombre de un Pokémon, si no existe que le mande un mensaje de error; si existe, que muestre una imagen y las estadísticas (peso, tamaño, movimientos, habilidades y tipos).\n",
        "\n",
        "Posteriormente, guardarás toda la información del pokémon (junto con el link de la imagen frontal del pokémon) en un archivo .json dentro de una carpeta llamada “pokedex”.\n",
        "\n",
        "Habiendo hecho esto, subirás el código a un repositorio en tu cuenta de GitHub explicando cómo lo hiciste, qué bibliotecas necesitaría otro usuario para ejecutar el proyecto, mostrando imágenes de muestra de algún resultado de búsqueda de un pokémon y describiendo qué has aprendido en este módulo."
      ],
      "metadata": {
        "id": "nWa7s0JyNiZ3"
      }
    },
    {
      "cell_type": "code",
      "source": [
        "pip install requests"
      ],
      "metadata": {
        "colab": {
          "base_uri": "https://localhost:8080/"
        },
        "id": "niDJelpyNpJf",
        "outputId": "82e50889-aaff-4abd-e148-7e8d403c55dc"
      },
      "execution_count": 1,
      "outputs": [
        {
          "output_type": "stream",
          "name": "stdout",
          "text": [
            "Requirement already satisfied: requests in /usr/local/lib/python3.10/dist-packages (2.32.3)\n",
            "Requirement already satisfied: charset-normalizer<4,>=2 in /usr/local/lib/python3.10/dist-packages (from requests) (3.3.2)\n",
            "Requirement already satisfied: idna<4,>=2.5 in /usr/local/lib/python3.10/dist-packages (from requests) (3.7)\n",
            "Requirement already satisfied: urllib3<3,>=1.21.1 in /usr/local/lib/python3.10/dist-packages (from requests) (2.0.7)\n",
            "Requirement already satisfied: certifi>=2017.4.17 in /usr/local/lib/python3.10/dist-packages (from requests) (2024.7.4)\n"
          ]
        }
      ]
    },
    {
      "cell_type": "code",
      "source": [
        "import requests\n",
        "\n",
        "def obtener_datos_pokemon(nombre):\n",
        "    url = f\"https://pokeapi.co/api/v2/pokemon/{nombre.lower()}\"\n",
        "    respuesta = requests.get(url)\n",
        "\n",
        "    if respuesta.status_code == 200:\n",
        "        return respuesta.json()\n",
        "    else:\n",
        "        return None\n",
        "\n",
        "def mostrar_informacion_pokemon(pokemon):\n",
        "    print(f\"Nombre: {pokemon['name'].capitalize()}\")\n",
        "    print(f\"Altura: {pokemon['height']} dm\")\n",
        "    print(f\"Peso: {pokemon['weight']} hg\")\n",
        "    print(\"Estadísticas base:\")\n",
        "    for stat in pokemon['stats']:\n",
        "        print(f\"  {stat['stat']['name'].capitalize()}: {stat['base_stat']}\")\n",
        "    print(f\"Imagen: {pokemon['sprites']['front_default']}\")\n",
        "\n",
        "def main():\n",
        "    nombre_pokemon = input(\"Introduce el nombre de un Pokémon: \")\n",
        "    datos_pokemon = obtener_datos_pokemon(nombre_pokemon)\n",
        "\n",
        "    if datos_pokemon:\n",
        "        mostrar_informacion_pokemon(datos_pokemon)\n",
        "    else:\n",
        "        print(\"Error: El Pokémon no existe.\")\n",
        "\n",
        "if __name__ == \"__main__\":\n",
        "    main()"
      ],
      "metadata": {
        "colab": {
          "base_uri": "https://localhost:8080/"
        },
        "id": "zbUk0dxWPWmt",
        "outputId": "b50e5721-8022-463e-f3bb-3e25eed8a2b3"
      },
      "execution_count": 3,
      "outputs": [
        {
          "output_type": "stream",
          "name": "stdout",
          "text": [
            "Introduce el nombre de un Pokémon: pikachu\n",
            "Nombre: Pikachu\n",
            "Altura: 4 dm\n",
            "Peso: 60 hg\n",
            "Estadísticas base:\n",
            "  Hp: 35\n",
            "  Attack: 55\n",
            "  Defense: 40\n",
            "  Special-attack: 50\n",
            "  Special-defense: 50\n",
            "  Speed: 90\n",
            "Imagen: https://raw.githubusercontent.com/PokeAPI/sprites/master/sprites/pokemon/25.png\n"
          ]
        }
      ]
    }
  ]
}