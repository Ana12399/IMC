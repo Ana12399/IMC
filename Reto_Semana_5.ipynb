{
  "cells": [
    {
      "cell_type": "markdown",
      "metadata": {
        "id": "view-in-github",
        "colab_type": "text"
      },
      "source": [
        "<a href=\"https://colab.research.google.com/github/Ana12399/IMC/blob/main/Reto_Semana_5.ipynb\" target=\"_parent\"><img src=\"https://colab.research.google.com/assets/colab-badge.svg\" alt=\"Open In Colab\"/></a>"
      ]
    },
    {
      "cell_type": "markdown",
      "metadata": {
        "id": "9_wfPgZ91YuO"
      },
      "source": [
        "**Reto de la semana 5**\n",
        "Realizar un programa con las siguientes características:\n",
        "1.- Que solicite al usuarios el año actual y un año cualquiera.\n",
        "2.- Que despliegue en la pantalla cuantos años han pasado desde el año ingresado hasta el año actual o cuantos años faltan para llegar a ese año. Ten en cuenta que si solo falta o ha pasado un año, debe mostrar el mensaje adecuado.\n",
        "3.-Que notifique si se ha ingresado dos veces el mismo año."
      ]
    },
    {
      "cell_type": "code",
      "execution_count": 1,
      "metadata": {
        "id": "a4P0kslT3WGn"
      },
      "outputs": [],
      "source": [
        "def anio(Mensaje):\n",
        "    while True:\n",
        "        try:\n",
        "            year = int(input(Mensaje))\n",
        "            return year\n",
        "            break\n",
        "        except ValueError:\n",
        "            print(\"Por favor, ingrese un año válido.\")"
      ]
    },
    {
      "cell_type": "code",
      "execution_count": 2,
      "metadata": {
        "colab": {
          "base_uri": "https://localhost:8080/"
        },
        "id": "ih8jP16ADK3k",
        "outputId": "890e6219-a561-4a5d-9c91-17a2e80d85ff"
      },
      "outputs": [
        {
          "name": "stdout",
          "output_type": "stream",
          "text": [
            "Ingrese el año inicial: 2024\n",
            "Ingrese el año final: 2000\n"
          ]
        }
      ],
      "source": [
        "inicial = anio(\"Ingrese el año inicial: \")\n",
        "final = anio(\"Ingrese el año final: \")"
      ]
    },
    {
      "cell_type": "code",
      "execution_count": 3,
      "metadata": {
        "colab": {
          "base_uri": "https://localhost:8080/"
        },
        "id": "u7jENoikVgcw",
        "outputId": "2c0e68fd-1bf5-45b4-e4de-a838af57702e"
      },
      "outputs": [
        {
          "output_type": "stream",
          "name": "stdout",
          "text": [
            "Han transcurrido 24 años desde 2000 hasta 2024\n"
          ]
        }
      ],
      "source": [
        "if inicial > final:\n",
        "  if inicial == final + 1:\n",
        "    print(f'Ha pasado un año desde {final} hasta {inicial}')\n",
        "  else:\n",
        "    print(f'Han transcurrido {inicial-final} años desde {final} hasta {inicial}')\n",
        "elif inicial < final:\n",
        "  if inicial == final - 1:\n",
        "    print(f'Falta un año para llegar desde {inicial} hasta {final}')\n",
        "  else:\n",
        "    print(f'Faltan {final-inicial} años para llegar desde {inicial} hasta {final}')\n",
        "else:\n",
        "  print(f'Error: el año {inicial} es el mismo año que el año {final}, por favor intenta con años diferentes')\n"
      ]
    },
    {
      "cell_type": "code",
      "execution_count": 10,
      "metadata": {
        "id": "gyRt1xyshDfR"
      },
      "outputs": [],
      "source": [
        "def retos5():\n",
        "  aux = True\n",
        "  while aux:\n",
        "    inicial = anio(\"Ingrese el año inicial: \")\n",
        "    final = anio(\"Ingrese el año final: \")\n",
        "    if inicial > final:\n",
        "      if inicial == final + 1:\n",
        "        print(f'Ha pasado un año desde {final} hasta {inicial}')\n",
        "      else:\n",
        "        print(f'Desde {final} hasta {inicial} han pasado los años: ')\n",
        "        while inicial > final:\n",
        "          final += 1\n",
        "          print(final)\n",
        "      aux = False\n",
        "    elif inicial < final:\n",
        "      if inicial == final - 1:\n",
        "        print(f'Falta un año para llegar desde {inicial} hasta {final}')\n",
        "      else:\n",
        "        print(f'Desde {inicial} hasta {final} han pasado los años: ')\n",
        "        while inicial < final:\n",
        "          inicial += 1\n",
        "          print(inicial)\n",
        "        aux = False\n",
        "    else:\n",
        "      print(f'Error: el año {inicial} es el mismo año que el año {final}, por favor intenta con años diferentes')"
      ]
    },
    {
      "cell_type": "code",
      "execution_count": 11,
      "metadata": {
        "id": "EiQ6zOiCh2E6",
        "colab": {
          "base_uri": "https://localhost:8080/"
        },
        "outputId": "d0745955-e812-42e6-8270-97801a8d2faa"
      },
      "outputs": [
        {
          "output_type": "stream",
          "name": "stdout",
          "text": [
            "Ingrese el año inicial: 2000\n",
            "Ingrese el año final: 2024\n",
            "Desde 2000 hasta 2024 han pasado los años: \n",
            "2001\n",
            "2002\n",
            "2003\n",
            "2004\n",
            "2005\n",
            "2006\n",
            "2007\n",
            "2008\n",
            "2009\n",
            "2010\n",
            "2011\n",
            "2012\n",
            "2013\n",
            "2014\n",
            "2015\n",
            "2016\n",
            "2017\n",
            "2018\n",
            "2019\n",
            "2020\n",
            "2021\n",
            "2022\n",
            "2023\n",
            "2024\n"
          ]
        }
      ],
      "source": [
        "retos5()"
      ]
    }
  ],
  "metadata": {
    "colab": {
      "provenance": [],
      "authorship_tag": "ABX9TyMq6Sezhw1YcNvpR/+dYsRg",
      "include_colab_link": true
    },
    "kernelspec": {
      "display_name": "Python 3",
      "name": "python3"
    },
    "language_info": {
      "name": "python"
    }
  },
  "nbformat": 4,
  "nbformat_minor": 0
}