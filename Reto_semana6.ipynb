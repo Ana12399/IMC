{
  "nbformat": 4,
  "nbformat_minor": 0,
  "metadata": {
    "colab": {
      "provenance": [],
      "authorship_tag": "ABX9TyPjsBlqU13LkssYKCvkqbe1",
      "include_colab_link": true
    },
    "kernelspec": {
      "name": "python3",
      "display_name": "Python 3"
    },
    "language_info": {
      "name": "python"
    }
  },
  "cells": [
    {
      "cell_type": "markdown",
      "metadata": {
        "id": "view-in-github",
        "colab_type": "text"
      },
      "source": [
        "<a href=\"https://colab.research.google.com/github/Ana12399/IMC/blob/main/Reto_semana6.ipynb\" target=\"_parent\"><img src=\"https://colab.research.google.com/assets/colab-badge.svg\" alt=\"Open In Colab\"/></a>"
      ]
    },
    {
      "cell_type": "markdown",
      "source": [
        "Reto de la semana\n",
        "-Que solicite una contraseña que inicie con un numero.\n",
        "-Que pida ingresar nuevamente la contraseña,y verificar que coincida con la primera ingresada.\n",
        "-Si se cometen tres errores al ingresar la contraseña, que despliegue un mensaje de aviso y cierre el programa.\n"
      ],
      "metadata": {
        "id": "yOLyyU6frbvF"
      }
    },
    {
      "cell_type": "code",
      "source": [
        "def validar_primervalor(min_len):\n",
        "  aux = 0\n",
        "  while aux < 3:\n",
        "    try:\n",
        "      password = input('Ingresa una contraseña (debe comenzar con un número): ')\n",
        "      validar = int(password[0])\n",
        "      if len(password) >= min_len:\n",
        "        return password, aux\n",
        "        break\n",
        "      else:\n",
        "        print('La contraseña no cumple con la longitud mínima')\n",
        "        aux += 1\n",
        "    except ValueError:\n",
        "      print('Recuerda que la contraseña debe comenzar con un número')\n",
        "      aux += 1\n",
        "\n",
        "  print('Excediste el número de intentos, vuelve a intentarlo en 12 horas')\n",
        "  return password, aux"
      ],
      "metadata": {
        "id": "GTHno9mzDd1T"
      },
      "execution_count": 56,
      "outputs": []
    },
    {
      "cell_type": "code",
      "source": [
        "contrasenia, intentos = validar_primervalor(4)"
      ],
      "metadata": {
        "colab": {
          "base_uri": "https://localhost:8080/"
        },
        "id": "s1tl7oX7DpLa",
        "outputId": "c37d0679-0587-4e09-f5de-5ea342f854e9"
      },
      "execution_count": 58,
      "outputs": [
        {
          "output_type": "stream",
          "name": "stdout",
          "text": [
            "Ingresa una contraseña (debe comenzar con un número): 1a\n",
            "La contraseña no cumple con la longitud mínima\n",
            "Ingresa una contraseña (debe comenzar con un número): 1an\n",
            "La contraseña no cumple con la longitud mínima\n",
            "Ingresa una contraseña (debe comenzar con un número): 11\n",
            "La contraseña no cumple con la longitud mínima\n",
            "Excediste el número de intentos, vuelve a intentarlo en 12 horas\n"
          ]
        }
      ]
    },
    {
      "cell_type": "code",
      "source": [
        "def corroborar_contrasenia(min_len):\n",
        "  password, intentos = validar_primervalor(min_len)\n",
        "  if intentos < 3:\n",
        "    aux = 0\n",
        "    while aux < 3:\n",
        "      password_2 = input('Ingresa la contraseña nuevamente:')\n",
        "      if password_2 == password:\n",
        "        print('Contraseña correcta')\n",
        "        return password\n",
        "        break\n",
        "      else:\n",
        "        print('Contraseña incorrecta, intenta de nuevo')\n",
        "        aux +=1\n",
        "\n",
        "    print('Excediste el número de intentos, vuelve a intentarlo en 12 horas')\n",
        "\n",
        "  else:\n",
        "    print('No se tiene una contraseña válida.')"
      ],
      "metadata": {
        "id": "aXtx8YNaD2zh"
      },
      "execution_count": 54,
      "outputs": []
    },
    {
      "cell_type": "code",
      "source": [
        "contrasenia = corroborar_contrasenia(4)"
      ],
      "metadata": {
        "colab": {
          "base_uri": "https://localhost:8080/"
        },
        "id": "mBvTJ4P8EU7K",
        "outputId": "3fbe81dd-cadc-4437-ab66-7bc321e4bf5e"
      },
      "execution_count": 62,
      "outputs": [
        {
          "output_type": "stream",
          "name": "stdout",
          "text": [
            "Ingresa una contraseña (debe comenzar con un número): 1ana\n",
            "Ingresa la contraseña nuevamente:1ana\n",
            "Contraseña correcta\n"
          ]
        }
      ]
    }
  ]
}