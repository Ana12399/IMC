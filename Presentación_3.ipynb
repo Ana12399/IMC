{
  "nbformat": 4,
  "nbformat_minor": 0,
  "metadata": {
    "colab": {
      "provenance": [],
      "authorship_tag": "ABX9TyNwHcx7Y8mg1RljV8sTUCld",
      "include_colab_link": true
    },
    "kernelspec": {
      "name": "python3",
      "display_name": "Python 3"
    },
    "language_info": {
      "name": "python"
    }
  },
  "cells": [
    {
      "cell_type": "markdown",
      "metadata": {
        "id": "view-in-github",
        "colab_type": "text"
      },
      "source": [
        "<a href=\"https://colab.research.google.com/github/Ana12399/IMC/blob/main/Presentaci%C3%B3n_3.ipynb\" target=\"_parent\"><img src=\"https://colab.research.google.com/assets/colab-badge.svg\" alt=\"Open In Colab\"/></a>"
      ]
    },
    {
      "cell_type": "markdown",
      "source": [
        "** Simulación Maquina de Galton**\n",
        "En el presente trabajo hemos podido ver como de manera sencilla se puede programar la simulación de la Máquina de Galton:\n",
        "\n",
        "Esta maquina simula el recorrido de 3000 canicas, que pasan por 12 niveles de obstáculos.\n",
        "Pudiendo desviarse tanto a la derecha como a la izquierda.\n",
        "Empezando en la posición cero.\n",
        "Se repite el ciclo con un **For**\n",
        "Paso a paso con el recorrido de np.random.choice([-1,1]).\n",
        "Luego puede pedirse que se imprima el resultado, o\n",
        "solamente se retorne.\n",
        "\n",
        "Luego se puede graficar el histograma con:** plot** histogram.\n",
        "y con **plt** se puede titular el grafico y dar nombre a los ejes X y Y.\n",
        "\n",
        "Estoy muy contenta con la enseñanza impartida por la maestra, ya que he podido entender la fundamentción basica de Python a travéz del recorrido de estas semanas."
      ],
      "metadata": {
        "id": "PFBmpGrHL8zk"
      }
    }
  ]
}