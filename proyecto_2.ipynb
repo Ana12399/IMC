{
  "nbformat": 4,
  "nbformat_minor": 0,
  "metadata": {
    "colab": {
      "provenance": [],
      "authorship_tag": "ABX9TyNOa20zDGzjZrPhXi63Z1aH",
      "include_colab_link": true
    },
    "kernelspec": {
      "name": "python3",
      "display_name": "Python 3"
    },
    "language_info": {
      "name": "python"
    }
  },
  "cells": [
    {
      "cell_type": "markdown",
      "metadata": {
        "id": "view-in-github",
        "colab_type": "text"
      },
      "source": [
        "<a href=\"https://colab.research.google.com/github/Ana12399/IMC/blob/main/proyecto_2.ipynb\" target=\"_parent\"><img src=\"https://colab.research.google.com/assets/colab-badge.svg\" alt=\"Open In Colab\"/></a>"
      ]
    },
    {
      "cell_type": "markdown",
      "source": [
        "**Proyecto**\n",
        "\n",
        "1.-Longitud de una frase\n",
        "Crear un programa para identificar la longitud de una palabra ingresada. La palabra correcta debe tener entre cuatro y ocho letras. toma en cuenta las siguientes consideraciones:\n",
        "\n",
        "-Si la longitud de la palabra se encuentra en el rango de cuatro a ocho letras, se debe imprimir un mensaje que indique que la palabra es correcta.\n",
        "\n",
        "-Si la palabra tiene menos de 4 letras debe indicar un mensaje que diga: “Hacen falta letras. Solo tiene N letras” (siendo N el número de letras de la palabra).\n",
        "\n",
        "-Si la palabra tiene más de 8 letras debe indicar un mensaje que diga: “Sobran letras. Tiene N letras” (siendo N el número de letras de la palabra).\n",
        "\n",
        "Con este programa podemos identificar la longitud de una palabra, obteniendo una respuesta con el numero de caracteres si es incorrecta y correcta si cumple con el rango establecido de caracteres.\n",
        "\n",
        "\n",
        "\n",
        "\n"
      ],
      "metadata": {
        "id": "xYtKlAOtzF4c"
      }
    },
    {
      "cell_type": "code",
      "source": [
        "palabra = input(\"Introduce una palabra: \")"
      ],
      "metadata": {
        "colab": {
          "base_uri": "https://localhost:8080/"
        },
        "id": "fw8sP68Cji7l",
        "outputId": "83f39b68-bcac-4710-eb99-0b3e7fbb8aba"
      },
      "execution_count": null,
      "outputs": [
        {
          "name": "stdout",
          "output_type": "stream",
          "text": [
            "Introduce una palabra: lim\n"
          ]
        }
      ]
    },
    {
      "cell_type": "markdown",
      "source": [],
      "metadata": {
        "id": "8vmvOUNvjgow"
      }
    },
    {
      "cell_type": "code",
      "source": [
        "if len(palabra) > 3 and len(palabra) < 9:\n",
        "  print('La palabra es correcta')\n",
        "elif len(palabra) < 4:\n",
        "  print(f'Hacen falta letras. Solo tiene {len(palabra)} letras')\n",
        "else:\n",
        "  print(f'Sobran letras. Tiene {len(palabra)} letras')"
      ],
      "metadata": {
        "colab": {
          "base_uri": "https://localhost:8080/"
        },
        "id": "LchOWX8n1F-d",
        "outputId": "50ebf8d3-6784-4cb2-aa4e-156e95cc49f3"
      },
      "execution_count": null,
      "outputs": [
        {
          "output_type": "stream",
          "name": "stdout",
          "text": [
            "Hacen falta letras. Solo tiene 3 letras\n"
          ]
        }
      ]
    },
    {
      "cell_type": "markdown",
      "source": [
        "**2.-** Encuentra el cuadrante Un cuadrante se refiere a las regiones que se forman a partir de la división de un plano por los ejes del Sistema Cartesiano, es decir, X como línea horizontal y Y como línea vertical. Este programa nos permite encontrar la ubicación de dos puntos en un plano con los ejes x, y en su cuadrante respectivo."
      ],
      "metadata": {
        "id": "vh_Zd06dxiGm"
      }
    },
    {
      "cell_type": "code",
      "source": [
        "x = -3\n",
        "y = 2\n",
        "if x>0 and y>0:\n",
        "    print (' El punto se encuentra en el Cuadrante I')\n",
        "if x<0 and y>0:\n",
        "    print ('El punto se encuentra en el Cuadrante II')\n",
        "if x<0 and y<0:\n",
        "    print ('El punto se encuentra en el Cuadrante III')\n",
        "if x>0 and y<0:\n",
        "    print ('El punto se encuentra en el Cuadrante VI')\n"
      ],
      "metadata": {
        "colab": {
          "base_uri": "https://localhost:8080/"
        },
        "id": "UHc-LFNG5eGi",
        "outputId": "aec3fe1b-530b-44e4-a12a-5a25c9672ed5"
      },
      "execution_count": null,
      "outputs": [
        {
          "output_type": "stream",
          "name": "stdout",
          "text": [
            "El punto se encuentra en el Cuadrante II\n"
          ]
        }
      ]
    },
    {
      "cell_type": "code",
      "source": [
        "x = -1\n",
        "y = 1\n",
        "if x>0 and y>0:\n",
        "    print ('El punto se encuentra en el Cuadrante I')\n",
        "if x<0 and y>0:\n",
        "    print ('El punto se encuentra en el Cuadrante II')\n",
        "if x<0 and y<0:\n",
        "    print ('El punto se encuentra en el Cuadrante III')\n",
        "if x>0 and y<0:\n",
        "    print ('El punto se encuentra en el Cuadrante VI')"
      ],
      "metadata": {
        "colab": {
          "base_uri": "https://localhost:8080/"
        },
        "id": "d5GNzMPu6Je-",
        "outputId": "a51b34ba-8787-46af-d821-3e2d0e63597f"
      },
      "execution_count": null,
      "outputs": [
        {
          "output_type": "stream",
          "name": "stdout",
          "text": [
            "El punto se encuentra en el Cuadrante II\n"
          ]
        }
      ]
    },
    {
      "cell_type": "code",
      "source": [
        "x = int (input ('Ingresa el valor de x: '))\n",
        "y = int (input ('Ingresa el valor de y: '))\n",
        "if x>0 and y>0:\n",
        "    print ('El punto se encuentra en el Cuadrante I')\n",
        "if x<0 and y>0:\n",
        "    print ('El punto se encuentra en elCuadrante II')\n",
        "if x<0 and y<0:\n",
        "    print ('El punto se encuentra en el Cuadrante III')\n",
        "if x>0 and y<0:\n",
        "    print ('El punto se encuentra en el Cuadrante VI')"
      ],
      "metadata": {
        "colab": {
          "base_uri": "https://localhost:8080/"
        },
        "id": "6cZQI8AkGTHu",
        "outputId": "553f5be8-71ed-4c0b-facb-f088921c1656"
      },
      "execution_count": null,
      "outputs": [
        {
          "output_type": "stream",
          "name": "stdout",
          "text": [
            "Ingresa el valor de x: 4\n",
            "Ingresa el valor de y: -5\n",
            "El punto se encuentra en el Cuadrante VI\n"
          ]
        }
      ]
    }
  ]
}